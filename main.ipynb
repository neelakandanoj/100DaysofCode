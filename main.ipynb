{
 "cells": [
  {
   "cell_type": "markdown",
   "metadata": {},
   "source": [
    "# **Program 1**\n",
    " \n",
    "Printing Hello world"
   ]
  },
  {
   "cell_type": "code",
   "execution_count": null,
   "metadata": {},
   "outputs": [],
   "source": [
    "print('Hello world')"
   ]
  },
  {
   "cell_type": "markdown",
   "metadata": {},
   "source": [
    "# **Program 2**\n",
    "Addition & division"
   ]
  },
  {
   "cell_type": "code",
   "execution_count": null,
   "metadata": {},
   "outputs": [],
   "source": [
    "num1=int(input(\"enter the number 1\"))\n",
    "num2=int(input(\"Enter the number 2\"))\n",
    "sum=num1+num2\n",
    "print(f\"Additon of two numbers == {sum}\")"
   ]
  },
  {
   "cell_type": "code",
   "execution_count": null,
   "metadata": {},
   "outputs": [],
   "source": [
    "num1=int(input(\"enter the number 1\"))\n",
    "num2=int(input(\"Enter the number 2\"))\n",
    "div=num1/num2\n",
    "print(f\"Division of two number is {div}\")"
   ]
  },
  {
   "cell_type": "markdown",
   "metadata": {},
   "source": [
    "#  **Program 3**\n",
    "\n",
    "Area of Triangle"
   ]
  },
  {
   "cell_type": "code",
   "execution_count": 1,
   "metadata": {},
   "outputs": [
    {
     "name": "stdout",
     "output_type": "stream",
     "text": [
      "area of triangle is : 75.0\n"
     ]
    }
   ],
   "source": [
    "base=int(input(\"enter the base\"))\n",
    "height=int(input(\"enter the height\"))\n",
    "area=0.5*base*height\n",
    "print(\"area of triangle is :\", area)"
   ]
  },
  {
   "cell_type": "markdown",
   "metadata": {},
   "source": [
    "# **Program 4**\n",
    "\n",
    "Swap two variable"
   ]
  },
  {
   "cell_type": "code",
   "execution_count": 2,
   "metadata": {},
   "outputs": [
    {
     "name": "stdout",
     "output_type": "stream",
     "text": [
      "variable 1 is : 78\n",
      "variable 2 is 23\n"
     ]
    }
   ],
   "source": [
    "var1=int(input(\"enter the variable1\"))\n",
    "var2=int(input(\"enter the variable2\"))\n",
    "\n",
    "temp=var1\n",
    "var1=var2\n",
    "var2=temp\n",
    "print(f\"variable 1 is : {var1}\")\n",
    "print(f\"variable 2 is {var2}\")"
   ]
  },
  {
   "cell_type": "markdown",
   "metadata": {},
   "source": [
    "# **Program 5**\n",
    " Random value gendration"
   ]
  },
  {
   "cell_type": "code",
   "execution_count": 5,
   "metadata": {},
   "outputs": [
    {
     "name": "stdout",
     "output_type": "stream",
     "text": [
      "Random value : 68\n"
     ]
    }
   ],
   "source": [
    "import random\n",
    "print(f\"Random value : {random.randint(1,100)}\")"
   ]
  },
  {
   "cell_type": "markdown",
   "metadata": {},
   "source": [
    "# **Program 6**\n",
    "\n",
    "Kilometer to miles"
   ]
  },
  {
   "cell_type": "code",
   "execution_count": 1,
   "metadata": {},
   "outputs": [
    {
     "name": "stdout",
     "output_type": "stream",
     "text": [
      "45 kilometers is equal to 27.961695\n"
     ]
    }
   ],
   "source": [
    "kilometer=int(input(\"Enter the kilometer: \"))\n",
    "\n",
    "conversion_factor=0.621371\n",
    "miles=kilometer*conversion_factor\n",
    "print(f\"{kilometer} kilometers is equal to {miles}\")\n",
    "              "
   ]
  },
  {
   "cell_type": "markdown",
   "metadata": {},
   "source": [
    "# **Program 7**\n",
    "\n",
    "celsius to fahrenhit"
   ]
  },
  {
   "cell_type": "code",
   "execution_count": 2,
   "metadata": {},
   "outputs": [
    {
     "name": "stdout",
     "output_type": "stream",
     "text": [
      "45 celsius is equal to 113.0 fahrenhit\n"
     ]
    }
   ],
   "source": [
    "celsius=int(input(\"enter the celsius:\"))\n",
    "fahrenhit=(celsius*9/5)+32\n",
    "print(f\"{celsius} celsius is equal to {fahrenhit} fahrenhit\")"
   ]
  },
  {
   "cell_type": "markdown",
   "metadata": {},
   "source": [
    "# **Program 8**\n",
    "\n",
    "Display calender"
   ]
  },
  {
   "cell_type": "code",
   "execution_count": 4,
   "metadata": {},
   "outputs": [
    {
     "name": "stdout",
     "output_type": "stream",
     "text": [
      "     February 2\n",
      "Mo Tu We Th Fr Sa Su\n",
      "             1  2  3\n",
      " 4  5  6  7  8  9 10\n",
      "11 12 13 14 15 16 17\n",
      "18 19 20 21 22 23 24\n",
      "25 26 27 28\n",
      "\n"
     ]
    }
   ],
   "source": [
    "import calendar\n",
    "year=int(input(\"enter the year\"))\n",
    "month=int(input(\"enter the month\"))\n",
    "\n",
    "cal=calendar.month(month,year)\n",
    "print(cal)"
   ]
  },
  {
   "cell_type": "code",
   "execution_count": null,
   "metadata": {},
   "outputs": [],
   "source": []
  }
 ],
 "metadata": {
  "kernelspec": {
   "display_name": "Python 3",
   "language": "python",
   "name": "python3"
  },
  "language_info": {
   "codemirror_mode": {
    "name": "ipython",
    "version": 3
   },
   "file_extension": ".py",
   "mimetype": "text/x-python",
   "name": "python",
   "nbconvert_exporter": "python",
   "pygments_lexer": "ipython3",
   "version": "3.11.3"
  }
 },
 "nbformat": 4,
 "nbformat_minor": 2
}
