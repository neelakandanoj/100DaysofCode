{
 "cells": [
  {
   "cell_type": "markdown",
   "metadata": {},
   "source": [
    "# **Program 1**\n",
    " \n",
    "Printing Hello world"
   ]
  },
  {
   "cell_type": "code",
   "execution_count": 1,
   "metadata": {},
   "outputs": [
    {
     "name": "stdout",
     "output_type": "stream",
     "text": [
      "Hello world\n"
     ]
    }
   ],
   "source": [
    "print('Hello world')"
   ]
  },
  {
   "cell_type": "markdown",
   "metadata": {},
   "source": [
    "# **Program 2**\n",
    "Addition & division"
   ]
  },
  {
   "cell_type": "code",
   "execution_count": 2,
   "metadata": {},
   "outputs": [
    {
     "name": "stdout",
     "output_type": "stream",
     "text": [
      "Additon of two numbers == 3\n"
     ]
    }
   ],
   "source": [
    "num1=int(input(\"enter the number 1\"))\n",
    "num2=int(input(\"Enter the number 2\"))\n",
    "sum=num1+num2\n",
    "print(f\"Additon of two numbers == {sum}\")"
   ]
  },
  {
   "cell_type": "code",
   "execution_count": 3,
   "metadata": {},
   "outputs": [
    {
     "name": "stdout",
     "output_type": "stream",
     "text": [
      "Division of two number is 0.6\n"
     ]
    }
   ],
   "source": [
    "num1=int(input(\"enter the number 1\"))\n",
    "num2=int(input(\"Enter the number 2\"))\n",
    "div=num1/num2\n",
    "print(f\"Division of two number is {div}\")"
   ]
  },
  {
   "cell_type": "markdown",
   "metadata": {},
   "source": [
    "#  **Program 3**\n",
    "\n",
    "Area of Triangle"
   ]
  },
  {
   "cell_type": "code",
   "execution_count": 4,
   "metadata": {},
   "outputs": [
    {
     "name": "stdout",
     "output_type": "stream",
     "text": [
      "area of triangle is : 10260.0\n"
     ]
    }
   ],
   "source": [
    "base=int(input(\"enter the base\"))\n",
    "height=int(input(\"enter the height\"))\n",
    "area=0.5*base*height\n",
    "print(\"area of triangle is :\", area)"
   ]
  },
  {
   "cell_type": "markdown",
   "metadata": {},
   "source": [
    "# **Program 4**\n",
    "\n",
    "Swap two variable"
   ]
  },
  {
   "cell_type": "code",
   "execution_count": 5,
   "metadata": {},
   "outputs": [
    {
     "name": "stdout",
     "output_type": "stream",
     "text": [
      "variable 1 is : 76\n",
      "variable 2 is 44\n"
     ]
    }
   ],
   "source": [
    "var1=int(input(\"enter the variable1\"))\n",
    "var2=int(input(\"enter the variable2\"))\n",
    "\n",
    "temp=var1\n",
    "var1=var2\n",
    "var2=temp\n",
    "print(f\"variable 1 is : {var1}\")\n",
    "print(f\"variable 2 is {var2}\")"
   ]
  },
  {
   "cell_type": "markdown",
   "metadata": {},
   "source": [
    "# **Program 5**\n",
    " Random value gendration"
   ]
  },
  {
   "cell_type": "code",
   "execution_count": 6,
   "metadata": {},
   "outputs": [
    {
     "name": "stdout",
     "output_type": "stream",
     "text": [
      "Random value : 80\n"
     ]
    }
   ],
   "source": [
    "import random\n",
    "print(f\"Random value : {random.randint(1,100)}\")"
   ]
  },
  {
   "cell_type": "markdown",
   "metadata": {},
   "source": [
    "# **Program 6**\n",
    "\n",
    "Kilometer to miles"
   ]
  },
  {
   "cell_type": "code",
   "execution_count": 7,
   "metadata": {},
   "outputs": [
    {
     "name": "stdout",
     "output_type": "stream",
     "text": [
      "3 kilometers is equal to 1.8641130000000001\n"
     ]
    }
   ],
   "source": [
    "kilometer=int(input(\"Enter the kilometer: \"))\n",
    "\n",
    "conversion_factor=0.621371\n",
    "miles=kilometer*conversion_factor\n",
    "print(f\"{kilometer} kilometers is equal to {miles}\")\n",
    "              "
   ]
  },
  {
   "cell_type": "markdown",
   "metadata": {},
   "source": [
    "# **Program 7**\n",
    "\n",
    "celsius to fahrenhit"
   ]
  },
  {
   "cell_type": "code",
   "execution_count": 8,
   "metadata": {},
   "outputs": [
    {
     "name": "stdout",
     "output_type": "stream",
     "text": [
      "4 celsius is equal to 39.2 fahrenhit\n"
     ]
    }
   ],
   "source": [
    "celsius=int(input(\"enter the celsius:\"))\n",
    "fahrenhit=(celsius*9/5)+32\n",
    "print(f\"{celsius} celsius is equal to {fahrenhit} fahrenhit\")"
   ]
  },
  {
   "cell_type": "markdown",
   "metadata": {},
   "source": [
    "# **Program 8**\n",
    "\n",
    "Display calender"
   ]
  },
  {
   "cell_type": "code",
   "execution_count": 9,
   "metadata": {},
   "outputs": [
    {
     "name": "stdout",
     "output_type": "stream",
     "text": [
      "      April 5\n",
      "Mo Tu We Th Fr Sa Su\n",
      "             1  2  3\n",
      " 4  5  6  7  8  9 10\n",
      "11 12 13 14 15 16 17\n",
      "18 19 20 21 22 23 24\n",
      "25 26 27 28 29 30\n",
      "\n"
     ]
    }
   ],
   "source": [
    "import calendar\n",
    "year=int(input(\"enter the year\"))\n",
    "month=int(input(\"enter the month\"))\n",
    "\n",
    "cal=calendar.month(month,year)\n",
    "print(cal)"
   ]
  },
  {
   "cell_type": "markdown",
   "metadata": {},
   "source": [
    "# **Progarm 9**\n",
    "\n",
    "Write a Python program to swap two variables without temp variable."
   ]
  },
  {
   "cell_type": "code",
   "execution_count": 1,
   "metadata": {},
   "outputs": [
    {
     "name": "stdout",
     "output_type": "stream",
     "text": [
      "new a value is  34\n",
      "new b value is  23\n"
     ]
    }
   ],
   "source": [
    "a=int(input(\"enter the number 1\"))\n",
    "b=int(input(\"enter the number 2\"))\n",
    "\n",
    "a,b=b,a\n",
    "print(\"new a value is \", a)\n",
    "print(\"new b value is \",b)"
   ]
  },
  {
   "cell_type": "markdown",
   "metadata": {},
   "source": [
    "# **Program 10**\n",
    "\n",
    "check the number  is positive, negative or zero"
   ]
  },
  {
   "cell_type": "code",
   "execution_count": 3,
   "metadata": {},
   "outputs": [
    {
     "name": "stdout",
     "output_type": "stream",
     "text": [
      "negative\n"
     ]
    }
   ],
   "source": [
    "num=int(input(\"enter the number\"))\n",
    "if num>0:\n",
    "    print(\"positive\")\n",
    "elif num<0:\n",
    "    print(\"negative\")\n",
    "elif num==0:\n",
    "    print(\"zero\")"
   ]
  },
  {
   "cell_type": "markdown",
   "metadata": {},
   "source": [
    "# **Program 11**\n",
    "\n",
    "check Odd or even"
   ]
  },
  {
   "cell_type": "code",
   "execution_count": 5,
   "metadata": {},
   "outputs": [
    {
     "name": "stdout",
     "output_type": "stream",
     "text": [
      "[1, 2, 3, 4]\n"
     ]
    }
   ],
   "source": [
    "number=list(map(int,input().split()))\n",
    "print(number)"
   ]
  },
  {
   "cell_type": "code",
   "execution_count": 6,
   "metadata": {},
   "outputs": [
    {
     "name": "stdout",
     "output_type": "stream",
     "text": [
      "number is odd\n"
     ]
    }
   ],
   "source": [
    "num=int(input(\"enter the number\"))\n",
    "if num%2==0:\n",
    "    print(\"number is even\")\n",
    "else:\n",
    "    print(\"number is odd\")"
   ]
  },
  {
   "cell_type": "code",
   "execution_count": null,
   "metadata": {},
   "outputs": [],
   "source": []
  }
 ],
 "metadata": {
  "kernelspec": {
   "display_name": "Python 3",
   "language": "python",
   "name": "python3"
  },
  "language_info": {
   "codemirror_mode": {
    "name": "ipython",
    "version": 3
   },
   "file_extension": ".py",
   "mimetype": "text/x-python",
   "name": "python",
   "nbconvert_exporter": "python",
   "pygments_lexer": "ipython3",
   "version": "3.11.3"
  }
 },
 "nbformat": 4,
 "nbformat_minor": 2
}
